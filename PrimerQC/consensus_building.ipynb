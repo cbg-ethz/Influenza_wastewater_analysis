{
 "cells": [
  {
   "cell_type": "code",
   "execution_count": 28,
   "id": "90d8efd8-8304-4230-b708-88b9236c9d14",
   "metadata": {},
   "outputs": [],
   "source": [
    "import pandas as pd\n",
    "from Bio import SeqIO\n",
    "from Bio.Align import MultipleSeqAlignment\n",
    "from Bio.Align.AlignInfo import SummaryInfo\n",
    "from Bio.SeqRecord import SeqRecord"
   ]
  },
  {
   "cell_type": "code",
   "execution_count": null,
   "id": "5c3cfe34",
   "metadata": {},
   "outputs": [],
   "source": [
    "file = \"PATH_TO/ha.align.fasta\"\n",
    "segment = \"HA\"\n",
    "out_dir = \"OUTPUT_DIRECTORY\"\n"
   ]
  },
  {
   "cell_type": "code",
   "execution_count": 51,
   "id": "437f558b-62de-474a-a1c1-b69af7075055",
   "metadata": {},
   "outputs": [],
   "source": [
    "H1N1_records = []\n",
    "H3N2_records = []\n",
    "unknown_records = []\n",
    "\n",
    "\n",
    "for record in SeqIO.parse(file, \"fasta\"):\n",
    "    \n",
    "    s = record.id\n",
    "    parts = s.split('|')\n",
    "\n",
    "    if parts[3].startswith(\"6B\"):     \n",
    "        H1N1_records.append(record)\n",
    "        \n",
    "    elif parts[3].startswith(\"3C\"):\n",
    "        H3N2_records.append(record)\n",
    "\n",
    "    else:\n",
    "        unknown_records.append(record)\n",
    "    \n",
    "\n",
    "\n",
    "        "
   ]
  },
  {
   "cell_type": "code",
   "execution_count": 52,
   "id": "f2fd835a",
   "metadata": {},
   "outputs": [
    {
     "data": {
      "text/plain": [
       "[]"
      ]
     },
     "execution_count": 52,
     "metadata": {},
     "output_type": "execute_result"
    }
   ],
   "source": [
    "unknown_records"
   ]
  },
  {
   "cell_type": "code",
   "execution_count": 53,
   "id": "3fc8d684",
   "metadata": {},
   "outputs": [],
   "source": [
    "H1N1_align = SummaryInfo(MultipleSeqAlignment(H1N1_records))\n",
    "H3N2_align = SummaryInfo(MultipleSeqAlignment(H3N2_records))\n",
    "\n",
    "#X represents the offset to the H1N1 H3N2 consensus sequence and is needed to identify primer binding sites downstream\n",
    "H1N1_consensus = SeqRecord(H1N1_align.dumb_consensus(),segment + \"_H1N1_consensus_22_23_seasonCH\")\n",
    "H3N2_consensus = SeqRecord(H3N2_align.dumb_consensus(),segment + \"_H3N2_consensus_22_23_seasonCH\")"
   ]
  },
  {
   "cell_type": "code",
   "execution_count": 55,
   "id": "9bb6a03e-d200-4d04-a37f-46b369e002ee",
   "metadata": {},
   "outputs": [
    {
     "data": {
      "text/plain": [
       "1"
      ]
     },
     "execution_count": 55,
     "metadata": {},
     "output_type": "execute_result"
    }
   ],
   "source": [
    "SeqIO.write(H1N1_consensus, out_dir + segment + \"_H1N1_consensus.fasta\", \"fasta\")\n",
    "SeqIO.write(H3N2_consensus, out_dir + segment + \"_H3N2_consensus.fasta\", \"fasta\")"
   ]
  },
  {
   "cell_type": "code",
   "execution_count": null,
   "id": "35bc52ed",
   "metadata": {},
   "outputs": [],
   "source": []
  },
  {
   "cell_type": "code",
   "execution_count": null,
   "id": "3e519041",
   "metadata": {},
   "outputs": [],
   "source": []
  }
 ],
 "metadata": {
  "kernelspec": {
   "display_name": "base",
   "language": "python",
   "name": "python3"
  },
  "language_info": {
   "codemirror_mode": {
    "name": "ipython",
    "version": 3
   },
   "file_extension": ".py",
   "mimetype": "text/x-python",
   "name": "python",
   "nbconvert_exporter": "python",
   "pygments_lexer": "ipython3",
   "version": "3.10.13"
  }
 },
 "nbformat": 4,
 "nbformat_minor": 5
}
